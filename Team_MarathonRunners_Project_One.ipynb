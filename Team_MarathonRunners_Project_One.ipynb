{
 "cells": [
  {
   "cell_type": "code",
   "execution_count": 279,
   "metadata": {},
   "outputs": [],
   "source": [
    "import pandas as pd\n",
    "import matplotlib.pyplot as plt\n",
    "import numpy as np\n",
    "import statistics as st\n",
    "from scipy import stats"
   ]
  },
  {
   "cell_type": "code",
   "execution_count": 280,
   "metadata": {},
   "outputs": [
    {
     "data": {
      "text/html": [
       "<div>\n",
       "<style scoped>\n",
       "    .dataframe tbody tr th:only-of-type {\n",
       "        vertical-align: middle;\n",
       "    }\n",
       "\n",
       "    .dataframe tbody tr th {\n",
       "        vertical-align: top;\n",
       "    }\n",
       "\n",
       "    .dataframe thead th {\n",
       "        text-align: right;\n",
       "    }\n",
       "</style>\n",
       "<table border=\"1\" class=\"dataframe\">\n",
       "  <thead>\n",
       "    <tr style=\"text-align: right;\">\n",
       "      <th></th>\n",
       "      <th>YEAR</th>\n",
       "      <th>Winner Name</th>\n",
       "      <th>Winner Country</th>\n",
       "      <th>Time</th>\n",
       "      <th>Gender</th>\n",
       "      <th>Marathon City</th>\n",
       "    </tr>\n",
       "  </thead>\n",
       "  <tbody>\n",
       "    <tr>\n",
       "      <th>0</th>\n",
       "      <td>1977</td>\n",
       "      <td>Dan Cloeter</td>\n",
       "      <td>USA</td>\n",
       "      <td>2:17:52</td>\n",
       "      <td>M</td>\n",
       "      <td>Chicago</td>\n",
       "    </tr>\n",
       "    <tr>\n",
       "      <th>1</th>\n",
       "      <td>1978</td>\n",
       "      <td>Mark Stanforth</td>\n",
       "      <td>USA</td>\n",
       "      <td>2:19:20</td>\n",
       "      <td>M</td>\n",
       "      <td>Chicago</td>\n",
       "    </tr>\n",
       "    <tr>\n",
       "      <th>2</th>\n",
       "      <td>1979</td>\n",
       "      <td>Dan Cloeter</td>\n",
       "      <td>USA</td>\n",
       "      <td>2:23:20</td>\n",
       "      <td>M</td>\n",
       "      <td>Chicago</td>\n",
       "    </tr>\n",
       "    <tr>\n",
       "      <th>3</th>\n",
       "      <td>1980</td>\n",
       "      <td>Frank Richardson</td>\n",
       "      <td>USA</td>\n",
       "      <td>2:14:04</td>\n",
       "      <td>M</td>\n",
       "      <td>Chicago</td>\n",
       "    </tr>\n",
       "    <tr>\n",
       "      <th>4</th>\n",
       "      <td>1981</td>\n",
       "      <td>Phil Coppess</td>\n",
       "      <td>USA</td>\n",
       "      <td>2:16:13</td>\n",
       "      <td>M</td>\n",
       "      <td>Chicago</td>\n",
       "    </tr>\n",
       "  </tbody>\n",
       "</table>\n",
       "</div>"
      ],
      "text/plain": [
       "   YEAR       Winner Name Winner Country     Time Gender Marathon City\n",
       "0  1977       Dan Cloeter            USA  2:17:52      M       Chicago\n",
       "1  1978    Mark Stanforth            USA  2:19:20      M       Chicago\n",
       "2  1979       Dan Cloeter            USA  2:23:20      M       Chicago\n",
       "3  1980  Frank Richardson            USA  2:14:04      M       Chicago\n",
       "4  1981      Phil Coppess            USA  2:16:13      M       Chicago"
      ]
     },
     "execution_count": 280,
     "metadata": {},
     "output_type": "execute_result"
    }
   ],
   "source": [
    "# Files to Load \n",
    "chicago_marathon_winners = \"Chicago_Marathon_Winners.csv\"\n",
    "london_marathon_winners = \"London_Marathon_Winners.csv\"\n",
    "ny_marathon_winners = \"NY_Marathon_Winners.csv\"\n",
    "winners = 'Marathon_Winners.csv'\n",
    "# Read School and Student Data File and store into Pandas Data Frames\n",
    "df = pd.read_csv(winners, encoding = 'latin-1')\n",
    "chi_mar_data = pd.read_csv(chicago_marathon_winners, encoding=\"latin-1\")\n",
    "#chi_mar_data\n",
    "lon_mar_data = pd.read_csv(london_marathon_winners, encoding=\"latin-1\")\n",
    "ny_mar_data = pd.read_csv(ny_marathon_winners, encoding=\"latin-1\")\n",
    "marathon_data_complete = pd.merge(chi_mar_data, lon_mar_data, left_on=['YEAR','Gender'], right_on = ['Year','Gender'])\n",
    "del marathon_data_complete['Year']\n",
    "marathon_data_complete.rename(columns = {'Winner Name_x':'Winner Name_Chicago','Winner Country_x':'Winner Country_Chicago','Time_x':'Time_Chicago','Marathon City_x':'City_Name_Chicago','Winner Name_y':'Winner Name_London','Winner Country_y':'Winner Country_London','Time_y':'Time_London','Marathon City_y':'City_Name_London'}, inplace = True)\n",
    "#marathon_data_complete\n",
    "marathon_data_complete_new = pd.merge(marathon_data_complete, ny_mar_data, left_on=['YEAR','Gender'], right_on = ['YEAR','Gender'])\n",
    "marathon_data_complete_new\n",
    "marathon_data_complete_new.rename(columns = {'Winner Name':'Winner Name_NY','Winner Country':'Winner Country_NY','Time':'Time_NY','Marathon City':'City_Name_NY'}, inplace = True)\n",
    "marathon_data_complete_new\n",
    "df.head()\n"
   ]
  },
  {
   "cell_type": "code",
   "execution_count": 281,
   "metadata": {},
   "outputs": [],
   "source": [
    "# Amit's code ends here\n"
   ]
  },
  {
   "cell_type": "code",
   "execution_count": 282,
   "metadata": {},
   "outputs": [],
   "source": [
    "# Sonal's code starts here"
   ]
  },
  {
   "cell_type": "code",
   "execution_count": 283,
   "metadata": {},
   "outputs": [],
   "source": [
    "# Sonal's code ends here"
   ]
  },
  {
   "cell_type": "code",
   "execution_count": 284,
   "metadata": {},
   "outputs": [],
   "source": [
    "# Brian's code starts here\n"
   ]
  },
  {
   "cell_type": "code",
   "execution_count": 334,
   "metadata": {},
   "outputs": [
    {
     "data": {
      "text/plain": [
       "GDP/CAP                81191\n",
       "Winner Country    Yugoslavia\n",
       "dtype: object"
      ]
     },
     "execution_count": 334,
     "metadata": {},
     "output_type": "execute_result"
    }
   ],
   "source": [
    "gdp = 'gdp_data.csv'\n",
    "gdp_data = pd.read_csv(gdp, encoding = 'latin-1')\n",
    "gdp_data['Winner Country'] = gdp_data['Country']\n",
    "gdp = gdp_data['2017']\n",
    "gdp2 = pd.DataFrame(gdp)\n",
    "gdp2['Winner Country'] = gdp_data['Country']\n",
    "gdp2 = gdp2.rename(columns={\"2017\" : \"GDP/CAP\"})\n",
    "gdp2.max()"
   ]
  },
  {
   "cell_type": "code",
   "execution_count": 335,
   "metadata": {},
   "outputs": [
    {
     "data": {
      "text/html": [
       "<div>\n",
       "<style scoped>\n",
       "    .dataframe tbody tr th:only-of-type {\n",
       "        vertical-align: middle;\n",
       "    }\n",
       "\n",
       "    .dataframe tbody tr th {\n",
       "        vertical-align: top;\n",
       "    }\n",
       "\n",
       "    .dataframe thead th {\n",
       "        text-align: right;\n",
       "    }\n",
       "</style>\n",
       "<table border=\"1\" class=\"dataframe\">\n",
       "  <thead>\n",
       "    <tr style=\"text-align: right;\">\n",
       "      <th></th>\n",
       "      <th>YEAR</th>\n",
       "      <th>Winner Name</th>\n",
       "      <th>Winner Country</th>\n",
       "      <th>Time</th>\n",
       "      <th>Gender</th>\n",
       "      <th>Marathon City</th>\n",
       "      <th>GDP/CAP</th>\n",
       "    </tr>\n",
       "  </thead>\n",
       "  <tbody>\n",
       "    <tr>\n",
       "      <th>0</th>\n",
       "      <td>1977</td>\n",
       "      <td>Dan Cloeter</td>\n",
       "      <td>USA</td>\n",
       "      <td>2:17:52</td>\n",
       "      <td>M</td>\n",
       "      <td>Chicago</td>\n",
       "      <td>59532.0</td>\n",
       "    </tr>\n",
       "    <tr>\n",
       "      <th>1</th>\n",
       "      <td>1978</td>\n",
       "      <td>Mark Stanforth</td>\n",
       "      <td>USA</td>\n",
       "      <td>2:19:20</td>\n",
       "      <td>M</td>\n",
       "      <td>Chicago</td>\n",
       "      <td>59532.0</td>\n",
       "    </tr>\n",
       "    <tr>\n",
       "      <th>2</th>\n",
       "      <td>1979</td>\n",
       "      <td>Dan Cloeter</td>\n",
       "      <td>USA</td>\n",
       "      <td>2:23:20</td>\n",
       "      <td>M</td>\n",
       "      <td>Chicago</td>\n",
       "      <td>59532.0</td>\n",
       "    </tr>\n",
       "    <tr>\n",
       "      <th>3</th>\n",
       "      <td>1980</td>\n",
       "      <td>Frank Richardson</td>\n",
       "      <td>USA</td>\n",
       "      <td>2:14:04</td>\n",
       "      <td>M</td>\n",
       "      <td>Chicago</td>\n",
       "      <td>59532.0</td>\n",
       "    </tr>\n",
       "    <tr>\n",
       "      <th>4</th>\n",
       "      <td>1981</td>\n",
       "      <td>Phil Coppess</td>\n",
       "      <td>USA</td>\n",
       "      <td>2:16:13</td>\n",
       "      <td>M</td>\n",
       "      <td>Chicago</td>\n",
       "      <td>59532.0</td>\n",
       "    </tr>\n",
       "  </tbody>\n",
       "</table>\n",
       "</div>"
      ],
      "text/plain": [
       "   YEAR       Winner Name Winner Country     Time Gender Marathon City  \\\n",
       "0  1977       Dan Cloeter            USA  2:17:52      M       Chicago   \n",
       "1  1978    Mark Stanforth            USA  2:19:20      M       Chicago   \n",
       "2  1979       Dan Cloeter            USA  2:23:20      M       Chicago   \n",
       "3  1980  Frank Richardson            USA  2:14:04      M       Chicago   \n",
       "4  1981      Phil Coppess            USA  2:16:13      M       Chicago   \n",
       "\n",
       "   GDP/CAP  \n",
       "0  59532.0  \n",
       "1  59532.0  \n",
       "2  59532.0  \n",
       "3  59532.0  \n",
       "4  59532.0  "
      ]
     },
     "execution_count": 335,
     "metadata": {},
     "output_type": "execute_result"
    }
   ],
   "source": [
    "df_gdp = pd.merge(df, gdp2, how = 'left', on = 'Winner Country')\n",
    "df_gdp.head()"
   ]
  },
  {
   "cell_type": "code",
   "execution_count": 352,
   "metadata": {},
   "outputs": [
    {
     "name": "stdout",
     "output_type": "stream",
     "text": [
      "4.6165677252211675e-27\n"
     ]
    }
   ],
   "source": [
    "\n",
    "x_data_gdp = df_gdp['YEAR']\n",
    "y_data_gdp= df_gdp['GDP/CAP']\n",
    "mask = ~np.isnan(x_data_gdp) & ~np.isnan(y_data_gdp)\n",
    "(slope, intercept, rvalue, pvalue, stderr) = stats.linregress(x_data_gdp[mask], y_data_gdp[mask])\n",
    "regress_values = x_data * slope + intercept\n",
    "line_eq = \"y = \" + str(round(slope,2)) + \"x + \" + str(round(intercept,2))\n",
    "print(pvalue)"
   ]
  },
  {
   "cell_type": "code",
   "execution_count": 337,
   "metadata": {},
   "outputs": [
    {
     "data": {
      "text/plain": [
       "Text(1985, 65000, 'y = -1404.15x + 2830927.88')"
      ]
     },
     "execution_count": 337,
     "metadata": {},
     "output_type": "execute_result"
    },
    {
     "data": {
      "image/png": "[encoded data removed]",
      "text/plain": [
       "<Figure size 432x288 with 1 Axes>"
      ]
     },
     "metadata": {
      "needs_background": "light"
     },
     "output_type": "display_data"
    }
   ],
   "source": [
    "plt.scatter(x_data_gdp,y_data_gdp )\n",
    "plt.title('Marathon Winners GDP/Capita of Origin Country Over Time')\n",
    "plt.xlabel('Year')\n",
    "plt.ylabel('GDP/Capita of Origin Country')\n",
    "plt.grid()\n",
    "plt.plot(x_data_gdp,regress_values,\"r-\")\n",
    "plt.annotate(line_eq,(1985,65000),fontsize=15,color=\"black\")\n",
    "\n"
   ]
  },
  {
   "cell_type": "code",
   "execution_count": 338,
   "metadata": {},
   "outputs": [
    {
     "data": {
      "text/html": [
       "<div>\n",
       "<style scoped>\n",
       "    .dataframe tbody tr th:only-of-type {\n",
       "        vertical-align: middle;\n",
       "    }\n",
       "\n",
       "    .dataframe tbody tr th {\n",
       "        vertical-align: top;\n",
       "    }\n",
       "\n",
       "    .dataframe thead th {\n",
       "        text-align: right;\n",
       "    }\n",
       "</style>\n",
       "<table border=\"1\" class=\"dataframe\">\n",
       "  <thead>\n",
       "    <tr style=\"text-align: right;\">\n",
       "      <th></th>\n",
       "      <th>GINI</th>\n",
       "      <th>Winner Country</th>\n",
       "    </tr>\n",
       "  </thead>\n",
       "  <tbody>\n",
       "    <tr>\n",
       "      <th>0</th>\n",
       "      <td>40.8</td>\n",
       "      <td>Kenya</td>\n",
       "    </tr>\n",
       "    <tr>\n",
       "      <th>1</th>\n",
       "      <td>35.0</td>\n",
       "      <td>Ethiopia</td>\n",
       "    </tr>\n",
       "    <tr>\n",
       "      <th>2</th>\n",
       "      <td>41.5</td>\n",
       "      <td>USA</td>\n",
       "    </tr>\n",
       "    <tr>\n",
       "      <th>3</th>\n",
       "      <td>33.2</td>\n",
       "      <td>UK</td>\n",
       "    </tr>\n",
       "    <tr>\n",
       "      <th>4</th>\n",
       "      <td>32.1</td>\n",
       "      <td>Japan</td>\n",
       "    </tr>\n",
       "  </tbody>\n",
       "</table>\n",
       "</div>"
      ],
      "text/plain": [
       "   GINI Winner Country\n",
       "0  40.8          Kenya\n",
       "1  35.0       Ethiopia\n",
       "2  41.5            USA\n",
       "3  33.2             UK\n",
       "4  32.1          Japan"
      ]
     },
     "execution_count": 338,
     "metadata": {},
     "output_type": "execute_result"
    }
   ],
   "source": [
    "gini = 'gini_data.csv'\n",
    "gini_data = pd.read_csv(gini, encoding = 'latin-1')\n",
    "gini_data['Winner Country'] = gini_data['Country']\n",
    "gini = gini_data['GINI']\n",
    "gini2 = pd.DataFrame(gini)\n",
    "gini2['Winner Country'] = gdp_data['Country']\n",
    "gini2.head()\n",
    "\n"
   ]
  },
  {
   "cell_type": "code",
   "execution_count": 339,
   "metadata": {},
   "outputs": [
    {
     "data": {
      "text/html": [
       "<div>\n",
       "<style scoped>\n",
       "    .dataframe tbody tr th:only-of-type {\n",
       "        vertical-align: middle;\n",
       "    }\n",
       "\n",
       "    .dataframe tbody tr th {\n",
       "        vertical-align: top;\n",
       "    }\n",
       "\n",
       "    .dataframe thead th {\n",
       "        text-align: right;\n",
       "    }\n",
       "</style>\n",
       "<table border=\"1\" class=\"dataframe\">\n",
       "  <thead>\n",
       "    <tr style=\"text-align: right;\">\n",
       "      <th></th>\n",
       "      <th>YEAR</th>\n",
       "      <th>Winner Name</th>\n",
       "      <th>Winner Country</th>\n",
       "      <th>Time</th>\n",
       "      <th>Gender</th>\n",
       "      <th>Marathon City</th>\n",
       "      <th>GINI</th>\n",
       "    </tr>\n",
       "  </thead>\n",
       "  <tbody>\n",
       "    <tr>\n",
       "      <th>0</th>\n",
       "      <td>1977</td>\n",
       "      <td>Dan Cloeter</td>\n",
       "      <td>USA</td>\n",
       "      <td>2:17:52</td>\n",
       "      <td>M</td>\n",
       "      <td>Chicago</td>\n",
       "      <td>41.5</td>\n",
       "    </tr>\n",
       "    <tr>\n",
       "      <th>1</th>\n",
       "      <td>1978</td>\n",
       "      <td>Mark Stanforth</td>\n",
       "      <td>USA</td>\n",
       "      <td>2:19:20</td>\n",
       "      <td>M</td>\n",
       "      <td>Chicago</td>\n",
       "      <td>41.5</td>\n",
       "    </tr>\n",
       "    <tr>\n",
       "      <th>2</th>\n",
       "      <td>1979</td>\n",
       "      <td>Dan Cloeter</td>\n",
       "      <td>USA</td>\n",
       "      <td>2:23:20</td>\n",
       "      <td>M</td>\n",
       "      <td>Chicago</td>\n",
       "      <td>41.5</td>\n",
       "    </tr>\n",
       "    <tr>\n",
       "      <th>3</th>\n",
       "      <td>1980</td>\n",
       "      <td>Frank Richardson</td>\n",
       "      <td>USA</td>\n",
       "      <td>2:14:04</td>\n",
       "      <td>M</td>\n",
       "      <td>Chicago</td>\n",
       "      <td>41.5</td>\n",
       "    </tr>\n",
       "    <tr>\n",
       "      <th>4</th>\n",
       "      <td>1981</td>\n",
       "      <td>Phil Coppess</td>\n",
       "      <td>USA</td>\n",
       "      <td>2:16:13</td>\n",
       "      <td>M</td>\n",
       "      <td>Chicago</td>\n",
       "      <td>41.5</td>\n",
       "    </tr>\n",
       "  </tbody>\n",
       "</table>\n",
       "</div>"
      ],
      "text/plain": [
       "   YEAR       Winner Name Winner Country     Time Gender Marathon City  GINI\n",
       "0  1977       Dan Cloeter            USA  2:17:52      M       Chicago  41.5\n",
       "1  1978    Mark Stanforth            USA  2:19:20      M       Chicago  41.5\n",
       "2  1979       Dan Cloeter            USA  2:23:20      M       Chicago  41.5\n",
       "3  1980  Frank Richardson            USA  2:14:04      M       Chicago  41.5\n",
       "4  1981      Phil Coppess            USA  2:16:13      M       Chicago  41.5"
      ]
     },
     "execution_count": 339,
     "metadata": {},
     "output_type": "execute_result"
    }
   ],
   "source": [
    "df_gini = pd.merge(df, gini2, how = 'left', on = 'Winner Country')\n",
    "df_gini.head()"
   ]
  },
  {
   "cell_type": "code",
   "execution_count": 353,
   "metadata": {},
   "outputs": [
    {
     "name": "stdout",
     "output_type": "stream",
     "text": [
      "0.5542831615073762\n"
     ]
    }
   ],
   "source": [
    "x_data_gini = df_gini['YEAR']\n",
    "y_data_gini= df_gini['GINI']\n",
    "mask = ~np.isnan(x_data_gini) & ~np.isnan(y_data_gini)\n",
    "(slope_g, intercept_g, rvalue_g, pvalue_g, stderr_g) = stats.linregress(x_data_gini[mask], y_data_gini[mask])\n",
    "regress_values_gini = x_data_gini * slope_g + intercept_g\n",
    "line_eq_gini = \"y = \" + str(round(slope,2)) + \"x + \" + str(round(intercept,2))\n",
    "print(pvalue_g)\n"
   ]
  },
  {
   "cell_type": "code",
   "execution_count": 354,
   "metadata": {},
   "outputs": [
    {
     "data": {
      "text/plain": [
       "Text(1970, 55, 'y = -1404.15x + 2830927.88')"
      ]
     },
     "execution_count": 354,
     "metadata": {},
     "output_type": "execute_result"
    },
    {
     "data": {
      "image/png": "[encoded data removed]",
      "text/plain": [
       "<Figure size 432x288 with 1 Axes>"
      ]
     },
     "metadata": {
      "needs_background": "light"
     },
     "output_type": "display_data"
    }
   ],
   "source": [
    "plt.scatter(x_data_gini,y_data_gini )\n",
    "plt.title('Marathon Winners GINI of Origin Country Over Time')\n",
    "plt.xlabel('Year')\n",
    "plt.ylabel('GINI of Origin Country')\n",
    "plt.grid()\n",
    "plt.plot(x_data_gini,regress_values_gini,\"r-\")\n",
    "plt.annotate(line_eq_gini,(1970,55),fontsize=15,color=\"black\")"
   ]
  },
  {
   "cell_type": "code",
   "execution_count": 342,
   "metadata": {},
   "outputs": [],
   "source": [
    "# Brian's code ends here"
   ]
  },
  {
   "cell_type": "code",
   "execution_count": 321,
   "metadata": {},
   "outputs": [],
   "source": [
    "# Olga's code starts here"
   ]
  },
  {
   "cell_type": "code",
   "execution_count": null,
   "metadata": {},
   "outputs": [],
   "source": [
    "# Olga's code ends here"
   ]
  }
 ],
 "metadata": {
  "kernelspec": {
   "display_name": "Python 3",
   "language": "python",
   "name": "python3"
  },
  "language_info": {
   "codemirror_mode": {
    "name": "ipython",
    "version": 3
   },
   "file_extension": ".py",
   "mimetype": "text/x-python",
   "name": "python",
   "nbconvert_exporter": "python",
   "pygments_lexer": "ipython3",
   "version": "3.6.9"
  }
 },
 "nbformat": 4,
 "nbformat_minor": 2
}
